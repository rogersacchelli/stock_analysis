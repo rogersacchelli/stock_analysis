{
 "cells": [
  {
   "cell_type": "code",
   "execution_count": null,
   "id": "3993403c-8d96-4aec-b094-14c6dcfea760",
   "metadata": {},
   "outputs": [],
   "source": [
    "import pickle\n",
    "import pandas as pd\n",
    "import numpy as np\n",
    "import math\n",
    "# sklearn imports\n",
    "from sklearn.preprocessing import LabelEncoder\n",
    "from sklearn.ensemble import RandomForestRegressor\n",
    "from sklearn.metrics import mean_squared_error, mean_absolute_error\n",
    "# Visualization\n",
    "import seaborn as sns\n",
    "\n",
    "import joblib\n",
    "\n"
   ]
  },
  {
   "cell_type": "code",
   "execution_count": null,
   "id": "a7b6233a-8910-4317-aecc-652994a16c2e",
   "metadata": {},
   "outputs": [],
   "source": [
    "joblib_file = \"random_forest_regressor_model_jan_24.pkl\"\n",
    "rf_regressor = RandomForestRegressor(n_estimators=100, random_state=42, oob_score=True)\n",
    "joblib.dump(rf_regressor, joblib_file)\n"
   ]
  },
  {
   "cell_type": "code",
   "execution_count": null,
   "id": "4bf18bf1-45ee-4e49-b8f9-2032fe4574c0",
   "metadata": {},
   "outputs": [],
   "source": [
    "new_data = \"../reports/f67cc09e252635377c4b8389fc6a92e6_ds.csv\"\n",
    "new_df = pd.read_csv(new_data)\n",
    "\n",
    "y_new = df.Close_Future\n",
    "X_new = df.loc[:, df.columns != 'Close_Future']\n",
    "X_new_scaled = scaler.transform(X_new)\n",
    "y_pred_new = rf_regressor.predict(X_new_scaled)"
   ]
  },
  {
   "cell_type": "code",
   "execution_count": null,
   "id": "a4b59c8c-e008-452a-8311-163dd7b60094",
   "metadata": {},
   "outputs": [],
   "source": []
  }
 ],
 "metadata": {
  "kernelspec": {
   "display_name": "Python 3 (ipykernel)",
   "language": "python",
   "name": "python3"
  },
  "language_info": {
   "codemirror_mode": {
    "name": "ipython",
    "version": 3
   },
   "file_extension": ".py",
   "mimetype": "text/x-python",
   "name": "python",
   "nbconvert_exporter": "python",
   "pygments_lexer": "ipython3",
   "version": "3.11.0"
  }
 },
 "nbformat": 4,
 "nbformat_minor": 5
}
